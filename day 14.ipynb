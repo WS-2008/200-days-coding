{
 "cells": [
  {
   "cell_type": "code",
   "execution_count": 12,
   "id": "9d00bf37",
   "metadata": {},
   "outputs": [
    {
     "name": "stdout",
     "output_type": "stream",
     "text": [
      "(2.094551481550247, 4)\n",
      "{'Bisection Method': {'Root': 2.094552993774414, 'Steps': 19}, 'Newton-Raphson Method': {'Root': 2.094551481550247, 'Steps': 4}}\n"
     ]
    }
   ],
   "source": [
    "import math\n",
    "\n",
    "def bisection_method(f, a, b, tol=1e-6, max_iter=1000):\n",
    "    steps = 0\n",
    "    if f(a) * f(b) >= 0:\n",
    "        raise ValueError(\"f(a) and f(b) must have opposite signs.\")\n",
    "    while (b - a) / 2 > tol and steps < max_iter:\n",
    "        c = (a + b) / 2\n",
    "        if f(c) == 0:\n",
    "            break\n",
    "        elif f(a) * f(c) < 0:\n",
    "            b = c\n",
    "        else:\n",
    "            a = c\n",
    "        steps += 1\n",
    "    return c, steps\n",
    "\n",
    "def newton_raphson_method(f, df, x0, tol=1e-6, max_iter=1000):\n",
    "    steps = 0\n",
    "    x = x0\n",
    "    for _ in range(max_iter):\n",
    "        fx = f(x)\n",
    "        dfx = df(x)\n",
    "        if abs(fx) < tol:\n",
    "            break\n",
    "        if dfx == 0:\n",
    "            raise ZeroDivisionError(\"Derivative is zero.\")\n",
    "        x -= fx / dfx\n",
    "        steps += 1\n",
    "    return x, steps\n",
    "\n",
    "def compare_methods(f, df, a, b, x0, tol=1e-6):\n",
    "    try:\n",
    "        root_bisect, steps_bisect = bisection_method(f, a, b, tol)\n",
    "    except Exception as e:\n",
    "        root_bisect, steps_bisect = None, str(e)\n",
    "    \n",
    "    try:\n",
    "        root_newton, steps_newton = newton_raphson_method(f, df, x0, tol)\n",
    "    except Exception as e:\n",
    "        root_newton, steps_newton = None, str(e)\n",
    "\n",
    "    return {\n",
    "        \"Bisection Method\": {\"Root\": root_bisect, \"Steps\": steps_bisect},\n",
    "        \"Newton-Raphson Method\": {\"Root\": root_newton, \"Steps\": steps_newton},\n",
    "    }\n",
    "\n",
    "\n",
    "# Examples, newton raphson\n",
    "def f(x):\n",
    "    return x**3 - 2*x - 5\n",
    "\n",
    "def df(x):\n",
    "    return 3*x**2 - 2\n",
    "\n",
    "# Testing the newton raphson method\n",
    "result = newton_raphson_method(f, df, x0=2.5)\n",
    "print(result)\n",
    "\n",
    "\n",
    "# Comparing bisection method to newton raphson method\n",
    "result_compare = compare_methods(f, df, a=2, b=3, x0=2.5)\n",
    "print(result_compare)\n"
   ]
  }
 ],
 "metadata": {
  "kernelspec": {
   "display_name": "Python 3",
   "language": "python",
   "name": "python3"
  },
  "language_info": {
   "codemirror_mode": {
    "name": "ipython",
    "version": 3
   },
   "file_extension": ".py",
   "mimetype": "text/x-python",
   "name": "python",
   "nbconvert_exporter": "python",
   "pygments_lexer": "ipython3",
   "version": "3.13.1"
  }
 },
 "nbformat": 4,
 "nbformat_minor": 5
}
